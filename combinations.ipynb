{
 "cells": [
  {
   "cell_type": "markdown",
   "id": "cf4deef7",
   "metadata": {},
   "source": [
    "# Комбинации и вероятность элементов множеств"
   ]
  },
  {
   "cell_type": "markdown",
   "id": "f33aafc1",
   "metadata": {},
   "source": [
    "+ [Вероятность в Python: перестановки и сочетания](https://medium.com/nuances-of-programming/%D0%B2%D0%B5%D1%80%D0%BE%D1%8F%D1%82%D0%BD%D0%BE%D1%81%D1%82%D1%8C-%D0%B2-python-%D0%BF%D0%B5%D1%80%D0%B5%D1%81%D1%82%D0%B0%D0%BD%D0%BE%D0%B2%D0%BA%D0%B8-%D0%B8-%D1%81%D0%BE%D1%87%D0%B5%D1%82%D0%B0%D0%BD%D0%B8%D1%8F-bc98a0a766ab)\n",
    "\n",
    "+ [Combinations and Permutations in Python with itertools](https://inventwithpython.com/blog/2021/07/03/combinations-and-permutations-in-python-with-itertools/)\n",
    "\n",
    "+ [Вероятность: примеры и задачи](https://www.lirmm.fr/~ashen/proba.pdf)\n",
    "\n",
    "+ [размещения, перестановки, сочетания](https://docs.yandex.ru/docs/view?tm=1667293145&tld=ru&lang=ru&name=apc.pdf&text=%D1%81%D0%BE%D1%87%D0%B5%D1%82%D0%B0%D0%BD%D0%B8%D0%B5%20%D1%87%D0%B5%D1%80%D0%B5%D0%B7%20%D0%BF%D0%B5%D1%80%D0%B5%D1%81%D1%82%D0%B0%D0%BD%D0%BE%D0%B2%D0%BA%D0%B8&url=https%3A%2F%2Fmathus.ru%2Fmath%2Fapc.pdf&lr=213&mime=pdf&l10n=ru&sign=3638364d72de686d4846a353657edaef&keyno=0&serpParams=tm%3D1667293145%26tld%3Dru%26lang%3Dru%26name%3Dapc.pdf%26text%3D%25D1%2581%25D0%25BE%25D1%2587%25D0%25B5%25D1%2582%25D0%25B0%25D0%25BD%25D0%25B8%25D0%25B5%2B%25D1%2587%25D0%25B5%25D1%2580%25D0%25B5%25D0%25B7%2B%25D0%25BF%25D0%25B5%25D1%2580%25D0%25B5%25D1%2581%25D1%2582%25D0%25B0%25D0%25BD%25D0%25BE%25D0%25B2%25D0%25BA%25D0%25B8%26url%3Dhttps%253A%2F%2Fmathus.ru%2Fmath%2Fapc.pdf%26lr%3D213%26mime%3Dpdf%26l10n%3Dru%26sign%3D3638364d72de686d4846a353657edaef%26keyno%3D0)"
   ]
  },
  {
   "cell_type": "code",
   "execution_count": 1,
   "id": "5326a141",
   "metadata": {},
   "outputs": [],
   "source": [
    "import itertools\n",
    "import math\n",
    "import pandas as pd"
   ]
  },
  {
   "cell_type": "code",
   "execution_count": 2,
   "id": "51a257e5",
   "metadata": {},
   "outputs": [],
   "source": [
    "def factorial(n):\n",
    "    if n == 1 or n == 0:\n",
    "        return 1\n",
    "    else:\n",
    "        return n * factorial(n-1)"
   ]
  },
  {
   "cell_type": "code",
   "execution_count": 3,
   "id": "5fde273b",
   "metadata": {},
   "outputs": [
    {
     "name": "stdout",
     "output_type": "stream",
     "text": [
      "48.6 µs ± 1.67 µs per loop (mean ± std. dev. of 7 runs, 10,000 loops each)\n"
     ]
    }
   ],
   "source": [
    "%%timeit\n",
    "factorial(100)"
   ]
  },
  {
   "cell_type": "code",
   "execution_count": 4,
   "id": "01ba8d30",
   "metadata": {},
   "outputs": [
    {
     "name": "stdout",
     "output_type": "stream",
     "text": [
      "2.38 µs ± 56.9 ns per loop (mean ± std. dev. of 7 runs, 100,000 loops each)\n"
     ]
    }
   ],
   "source": [
    "%%timeit\n",
    "math.factorial(100)"
   ]
  },
  {
   "cell_type": "markdown",
   "id": "860c7857",
   "metadata": {},
   "source": [
    "## 1 Перестановки\n",
    "### 1.1 Без повторения\n",
    "> Всевозможные комбинации элементов множества без повторения\n",
    "\n",
    "$$P_{n} = n!$$"
   ]
  },
  {
   "cell_type": "code",
   "execution_count": 5,
   "id": "be30f30d",
   "metadata": {},
   "outputs": [],
   "source": [
    "def permutation_without_repeat(n):\n",
    "    return math.factorial(n)"
   ]
  },
  {
   "cell_type": "markdown",
   "id": "4fe07594",
   "metadata": {},
   "source": [
    "**Пример.** Если мы знаем что в пин-коде используются цифры: 1, 5, 7, 9 без повтора, то сколько всевозможных комбинаций получается?"
   ]
  },
  {
   "cell_type": "code",
   "execution_count": 6,
   "id": "0b4d1576",
   "metadata": {},
   "outputs": [
    {
     "data": {
      "text/plain": [
       "24"
      ]
     },
     "execution_count": 6,
     "metadata": {},
     "output_type": "execute_result"
    }
   ],
   "source": [
    "permutation_without_repeat(4)"
   ]
  },
  {
   "cell_type": "code",
   "execution_count": 7,
   "id": "c8192843",
   "metadata": {},
   "outputs": [
    {
     "data": {
      "text/plain": [
       "24"
      ]
     },
     "execution_count": 7,
     "metadata": {},
     "output_type": "execute_result"
    }
   ],
   "source": [
    "math.perm(4)"
   ]
  },
  {
   "cell_type": "code",
   "execution_count": 8,
   "id": "162c84d4",
   "metadata": {},
   "outputs": [
    {
     "name": "stdout",
     "output_type": "stream",
     "text": [
      "Количество перестановок: 24\n"
     ]
    },
    {
     "data": {
      "text/plain": [
       "[(1, 5, 7, 9),\n",
       " (1, 5, 9, 7),\n",
       " (1, 7, 5, 9),\n",
       " (1, 7, 9, 5),\n",
       " (1, 9, 5, 7),\n",
       " (1, 9, 7, 5),\n",
       " (5, 1, 7, 9),\n",
       " (5, 1, 9, 7),\n",
       " (5, 7, 1, 9),\n",
       " (5, 7, 9, 1),\n",
       " (5, 9, 1, 7),\n",
       " (5, 9, 7, 1),\n",
       " (7, 1, 5, 9),\n",
       " (7, 1, 9, 5),\n",
       " (7, 5, 1, 9),\n",
       " (7, 5, 9, 1),\n",
       " (7, 9, 1, 5),\n",
       " (7, 9, 5, 1),\n",
       " (9, 1, 5, 7),\n",
       " (9, 1, 7, 5),\n",
       " (9, 5, 1, 7),\n",
       " (9, 5, 7, 1),\n",
       " (9, 7, 1, 5),\n",
       " (9, 7, 5, 1)]"
      ]
     },
     "execution_count": 8,
     "metadata": {},
     "output_type": "execute_result"
    }
   ],
   "source": [
    "numbers = [1, 5, 7, 9]\n",
    "pincode = list(itertools.permutations(numbers))\n",
    "print(f'Количество перестановок: {len(pincode)}')\n",
    "pincode"
   ]
  },
  {
   "cell_type": "markdown",
   "id": "4b8bf619",
   "metadata": {},
   "source": [
    "### 1.2 С повторением\n",
    "https://www.matburo.ru/tvart_sub.php?p=calc_PR\n",
    "> Перестановки с повторением - перестановки из всех $n$ элементов $m$ различных типов, причем в каждом типе все элементы одинаковы.\n",
    "\n",
    "$$P_{n}(n_{1}, n_{2},...,n_{m}) = \\frac{n!}{n_{1}!\\cdot n_{2}!\\cdot ...\\cdot n_{m}!}$$"
   ]
  },
  {
   "cell_type": "code",
   "execution_count": 9,
   "id": "ecd9901f",
   "metadata": {},
   "outputs": [],
   "source": [
    "def permutation_with_repeat(*args):\n",
    "    return math.factorial(sum(args)) // math.prod([math.factorial(ni) for ni in args])"
   ]
  },
  {
   "cell_type": "code",
   "execution_count": 10,
   "id": "f2157956",
   "metadata": {},
   "outputs": [
    {
     "data": {
      "text/plain": [
       "7560"
      ]
     },
     "execution_count": 10,
     "metadata": {},
     "output_type": "execute_result"
    }
   ],
   "source": [
    "permutation_with_repeat(2, 2, 1, 5)"
   ]
  },
  {
   "cell_type": "markdown",
   "id": "831e4e53",
   "metadata": {},
   "source": [
    "## 2 Размещения\n",
    "[wiki: Размещение](https://ru.wikipedia.org/wiki/%D0%A0%D0%B0%D0%B7%D0%BC%D0%B5%D1%89%D0%B5%D0%BD%D0%B8%D0%B5)\n",
    "\n",
    "📌 Учитывает порядок следования объектов\n",
    "\n",
    "📌 При $k$ = $n$ число размещений равно числу перестановок"
   ]
  },
  {
   "cell_type": "markdown",
   "id": "7fe8ad04",
   "metadata": {},
   "source": [
    "### 2.1 Без повторения\n",
    ">Размеще́нием (из $n$ по $k$) называется упорядоченный набор из $k$ различных элементов из некоторого множества различных $n$ элементов.\n",
    "\n",
    "$$A_{n}^{k} = \\frac{n!}{(n-k)!}$$"
   ]
  },
  {
   "cell_type": "code",
   "execution_count": 11,
   "id": "3e80998a",
   "metadata": {},
   "outputs": [],
   "source": [
    "def partial_permutation_without_repeat(n, k):\n",
    "    if n < k:\n",
    "        return 0\n",
    "    return math.factorial(n) // math.factorial(n-k)"
   ]
  },
  {
   "cell_type": "markdown",
   "id": "30f499eb",
   "metadata": {},
   "source": [
    "**Пример.** Если в гонке участвуют 10 человек, то сколько вариантов существует занять первые три места?"
   ]
  },
  {
   "cell_type": "code",
   "execution_count": 12,
   "id": "1081c448",
   "metadata": {},
   "outputs": [
    {
     "data": {
      "text/plain": [
       "720"
      ]
     },
     "execution_count": 12,
     "metadata": {},
     "output_type": "execute_result"
    }
   ],
   "source": [
    "partial_permutation_without_repeat(10, 3)"
   ]
  },
  {
   "cell_type": "code",
   "execution_count": 13,
   "id": "f967808a",
   "metadata": {},
   "outputs": [
    {
     "data": {
      "text/plain": [
       "720"
      ]
     },
     "execution_count": 13,
     "metadata": {},
     "output_type": "execute_result"
    }
   ],
   "source": [
    "math.perm(10, 3)"
   ]
  },
  {
   "cell_type": "code",
   "execution_count": 14,
   "id": "655c0ffc",
   "metadata": {},
   "outputs": [
    {
     "name": "stdout",
     "output_type": "stream",
     "text": [
      "Количество вариантов занять первые 3 места: 720\n"
     ]
    },
    {
     "data": {
      "text/plain": [
       "[('Алонсо', 'Боттас', 'Гасли'),\n",
       " ('Алонсо', 'Боттас', 'Леклер'),\n",
       " ('Алонсо', 'Боттас', 'Норрис'),\n",
       " ('Алонсо', 'Боттас', 'Перес'),\n",
       " ('Алонсо', 'Боттас', 'Риккардо'),\n",
       " ('Алонсо', 'Боттас', 'Ферстаппен'),\n",
       " ('Алонсо', 'Боттас', 'Феттель'),\n",
       " ('Алонсо', 'Боттас', 'Хэмилтон'),\n",
       " ('Алонсо', 'Гасли', 'Боттас'),\n",
       " ('Алонсо', 'Гасли', 'Леклер'),\n",
       " ('Алонсо', 'Гасли', 'Норрис'),\n",
       " ('Алонсо', 'Гасли', 'Перес'),\n",
       " ('Алонсо', 'Гасли', 'Риккардо'),\n",
       " ('Алонсо', 'Гасли', 'Ферстаппен'),\n",
       " ('Алонсо', 'Гасли', 'Феттель'),\n",
       " ('Алонсо', 'Гасли', 'Хэмилтон'),\n",
       " ('Алонсо', 'Леклер', 'Боттас'),\n",
       " ('Алонсо', 'Леклер', 'Гасли'),\n",
       " ('Алонсо', 'Леклер', 'Норрис'),\n",
       " ('Алонсо', 'Леклер', 'Перес')]"
      ]
     },
     "execution_count": 14,
     "metadata": {},
     "output_type": "execute_result"
    }
   ],
   "source": [
    "racers = ['Алонсо', 'Боттас', 'Гасли', 'Леклер', 'Норрис', 'Перес', 'Риккардо', 'Ферстаппен', 'Феттель', 'Хэмилтон']\n",
    "prizes = list(itertools.permutations(racers, 3))\n",
    "print(f'Количество вариантов занять первые 3 места: {len(prizes)}')\n",
    "prizes[:20]"
   ]
  },
  {
   "cell_type": "markdown",
   "id": "fe5f1c7c",
   "metadata": {},
   "source": [
    "### 2.2 С повторением\n",
    "> Размещение с повторениями или выборка с возвращением — это размещение «предметов» в предположении, что каждый «предмет» может участвовать в размещении несколько раз. \n",
    "\n",
    "$$A_{n}^{k} = n^{k}$$"
   ]
  },
  {
   "cell_type": "code",
   "execution_count": 15,
   "id": "7d085a40",
   "metadata": {},
   "outputs": [],
   "source": [
    "def partial_permutation_with_repeat(n, k):\n",
    "    return pow(n, k)"
   ]
  },
  {
   "cell_type": "markdown",
   "id": "7e103b4c",
   "metadata": {},
   "source": [
    "**Пример.** Сколько комбинаций пароля существует, если количество символов в пароле 8, а всего доступных символов для составления пароля 36 (26 английских букв + 10 цифр) "
   ]
  },
  {
   "cell_type": "code",
   "execution_count": 16,
   "id": "b1c7192c",
   "metadata": {},
   "outputs": [
    {
     "name": "stdout",
     "output_type": "stream",
     "text": [
      "Количество комбинаций пароля: 2,821,109,907,456\n"
     ]
    }
   ],
   "source": [
    "passwords = partial_permutation_with_repeat(36, 8)\n",
    "print(f\"Количество комбинаций пароля: {passwords:,}\")"
   ]
  },
  {
   "cell_type": "markdown",
   "id": "2dd4bb3a",
   "metadata": {},
   "source": [
    "**Пример.** Монету бросают 3 раза (или бросают 3 монеты). Сколько комбинаций получается?\n",
    "\n",
    "Исходы: О-орёл, Р-решка"
   ]
  },
  {
   "cell_type": "code",
   "execution_count": 17,
   "id": "0d905564",
   "metadata": {},
   "outputs": [
    {
     "data": {
      "text/plain": [
       "8"
      ]
     },
     "execution_count": 17,
     "metadata": {},
     "output_type": "execute_result"
    }
   ],
   "source": [
    "partial_permutation_with_repeat(2, 3)"
   ]
  },
  {
   "cell_type": "code",
   "execution_count": 18,
   "id": "bc1058b9",
   "metadata": {},
   "outputs": [
    {
     "data": {
      "text/plain": [
       "[('О', 'О', 'О'),\n",
       " ('О', 'О', 'Р'),\n",
       " ('О', 'Р', 'О'),\n",
       " ('О', 'Р', 'Р'),\n",
       " ('Р', 'О', 'О'),\n",
       " ('Р', 'О', 'Р'),\n",
       " ('Р', 'Р', 'О'),\n",
       " ('Р', 'Р', 'Р')]"
      ]
     },
     "execution_count": 18,
     "metadata": {},
     "output_type": "execute_result"
    }
   ],
   "source": [
    "list(itertools.product('ОР', repeat=3))"
   ]
  },
  {
   "cell_type": "markdown",
   "id": "fd11a406",
   "metadata": {},
   "source": [
    "## 3 Сочетания\n",
    "📌 Порядок следования объектов не важен\n",
    "\n",
    "📌 Абстракция - группа "
   ]
  },
  {
   "cell_type": "markdown",
   "id": "dc45acd4",
   "metadata": {},
   "source": [
    "### 3.1 Без повторения\n",
    "> Cочетанием из $n$ по $k$ называется набор из $k$ элементов, выбранных из $n$-элементного множества, в котором **не учитывается порядок** элементов.\n",
    "\n",
    "$$C_{n}^{k} = \\frac{n!}{k!(n-k)!}$$"
   ]
  },
  {
   "cell_type": "code",
   "execution_count": 19,
   "id": "83c7abf7",
   "metadata": {},
   "outputs": [],
   "source": [
    "def combinations_without_repeat(n, k):\n",
    "    if n < k:\n",
    "        return 0\n",
    "    return math.factorial(n) // (math.factorial(k) * math.factorial(n-k))"
   ]
  },
  {
   "cell_type": "markdown",
   "id": "6c054820",
   "metadata": {},
   "source": [
    "**Пример.** В скольких комбинациях выпадет 2 орла, если монетку подкидвать 4 раза?"
   ]
  },
  {
   "cell_type": "code",
   "execution_count": 20,
   "id": "24bf67b4",
   "metadata": {},
   "outputs": [
    {
     "data": {
      "text/html": [
       "<div>\n",
       "<style scoped>\n",
       "    .dataframe tbody tr th:only-of-type {\n",
       "        vertical-align: middle;\n",
       "    }\n",
       "\n",
       "    .dataframe tbody tr th {\n",
       "        vertical-align: top;\n",
       "    }\n",
       "\n",
       "    .dataframe thead th {\n",
       "        text-align: right;\n",
       "    }\n",
       "</style>\n",
       "<table border=\"1\" class=\"dataframe\">\n",
       "  <thead>\n",
       "    <tr style=\"text-align: right;\">\n",
       "      <th></th>\n",
       "      <th>Бросок_1</th>\n",
       "      <th>Бросок_2</th>\n",
       "      <th>Бросок_3</th>\n",
       "      <th>Бросок_4</th>\n",
       "    </tr>\n",
       "  </thead>\n",
       "  <tbody>\n",
       "    <tr>\n",
       "      <th>0</th>\n",
       "      <td>О</td>\n",
       "      <td>О</td>\n",
       "      <td>О</td>\n",
       "      <td>О</td>\n",
       "    </tr>\n",
       "    <tr>\n",
       "      <th>1</th>\n",
       "      <td>О</td>\n",
       "      <td>О</td>\n",
       "      <td>О</td>\n",
       "      <td>Р</td>\n",
       "    </tr>\n",
       "    <tr>\n",
       "      <th>2</th>\n",
       "      <td>О</td>\n",
       "      <td>О</td>\n",
       "      <td>Р</td>\n",
       "      <td>О</td>\n",
       "    </tr>\n",
       "    <tr>\n",
       "      <th>3</th>\n",
       "      <td>О</td>\n",
       "      <td>О</td>\n",
       "      <td>Р</td>\n",
       "      <td>Р</td>\n",
       "    </tr>\n",
       "    <tr>\n",
       "      <th>4</th>\n",
       "      <td>О</td>\n",
       "      <td>Р</td>\n",
       "      <td>О</td>\n",
       "      <td>О</td>\n",
       "    </tr>\n",
       "    <tr>\n",
       "      <th>5</th>\n",
       "      <td>О</td>\n",
       "      <td>Р</td>\n",
       "      <td>О</td>\n",
       "      <td>Р</td>\n",
       "    </tr>\n",
       "    <tr>\n",
       "      <th>6</th>\n",
       "      <td>О</td>\n",
       "      <td>Р</td>\n",
       "      <td>Р</td>\n",
       "      <td>О</td>\n",
       "    </tr>\n",
       "    <tr>\n",
       "      <th>7</th>\n",
       "      <td>О</td>\n",
       "      <td>Р</td>\n",
       "      <td>Р</td>\n",
       "      <td>Р</td>\n",
       "    </tr>\n",
       "    <tr>\n",
       "      <th>8</th>\n",
       "      <td>Р</td>\n",
       "      <td>О</td>\n",
       "      <td>О</td>\n",
       "      <td>О</td>\n",
       "    </tr>\n",
       "    <tr>\n",
       "      <th>9</th>\n",
       "      <td>Р</td>\n",
       "      <td>О</td>\n",
       "      <td>О</td>\n",
       "      <td>Р</td>\n",
       "    </tr>\n",
       "    <tr>\n",
       "      <th>10</th>\n",
       "      <td>Р</td>\n",
       "      <td>О</td>\n",
       "      <td>Р</td>\n",
       "      <td>О</td>\n",
       "    </tr>\n",
       "    <tr>\n",
       "      <th>11</th>\n",
       "      <td>Р</td>\n",
       "      <td>О</td>\n",
       "      <td>Р</td>\n",
       "      <td>Р</td>\n",
       "    </tr>\n",
       "    <tr>\n",
       "      <th>12</th>\n",
       "      <td>Р</td>\n",
       "      <td>Р</td>\n",
       "      <td>О</td>\n",
       "      <td>О</td>\n",
       "    </tr>\n",
       "    <tr>\n",
       "      <th>13</th>\n",
       "      <td>Р</td>\n",
       "      <td>Р</td>\n",
       "      <td>О</td>\n",
       "      <td>Р</td>\n",
       "    </tr>\n",
       "    <tr>\n",
       "      <th>14</th>\n",
       "      <td>Р</td>\n",
       "      <td>Р</td>\n",
       "      <td>Р</td>\n",
       "      <td>О</td>\n",
       "    </tr>\n",
       "    <tr>\n",
       "      <th>15</th>\n",
       "      <td>Р</td>\n",
       "      <td>Р</td>\n",
       "      <td>Р</td>\n",
       "      <td>Р</td>\n",
       "    </tr>\n",
       "  </tbody>\n",
       "</table>\n",
       "</div>"
      ],
      "text/plain": [
       "   Бросок_1 Бросок_2 Бросок_3 Бросок_4\n",
       "0         О        О        О        О\n",
       "1         О        О        О        Р\n",
       "2         О        О        Р        О\n",
       "3         О        О        Р        Р\n",
       "4         О        Р        О        О\n",
       "5         О        Р        О        Р\n",
       "6         О        Р        Р        О\n",
       "7         О        Р        Р        Р\n",
       "8         Р        О        О        О\n",
       "9         Р        О        О        Р\n",
       "10        Р        О        Р        О\n",
       "11        Р        О        Р        Р\n",
       "12        Р        Р        О        О\n",
       "13        Р        Р        О        Р\n",
       "14        Р        Р        Р        О\n",
       "15        Р        Р        Р        Р"
      ]
     },
     "execution_count": 20,
     "metadata": {},
     "output_type": "execute_result"
    }
   ],
   "source": [
    "w = 4  # броски\n",
    "v = 2  # кол-во выпаданий орла\n",
    "\n",
    "# все возможные варианты подбрасывания монеты\n",
    "coin = pd.DataFrame(data=list(itertools.product('ОР', repeat=w)), \n",
    "                    columns=[f'Бросок_{n}' for n in range(1, w+1)]\n",
    "                   )\n",
    "coin"
   ]
  },
  {
   "cell_type": "code",
   "execution_count": 21,
   "id": "739d72a7",
   "metadata": {},
   "outputs": [
    {
     "data": {
      "text/html": [
       "<div>\n",
       "<style scoped>\n",
       "    .dataframe tbody tr th:only-of-type {\n",
       "        vertical-align: middle;\n",
       "    }\n",
       "\n",
       "    .dataframe tbody tr th {\n",
       "        vertical-align: top;\n",
       "    }\n",
       "\n",
       "    .dataframe thead th {\n",
       "        text-align: right;\n",
       "    }\n",
       "</style>\n",
       "<table border=\"1\" class=\"dataframe\">\n",
       "  <thead>\n",
       "    <tr style=\"text-align: right;\">\n",
       "      <th></th>\n",
       "      <th>0</th>\n",
       "      <th>1</th>\n",
       "      <th>2</th>\n",
       "      <th>3</th>\n",
       "      <th>4</th>\n",
       "      <th>5</th>\n",
       "      <th>6</th>\n",
       "      <th>7</th>\n",
       "      <th>8</th>\n",
       "      <th>9</th>\n",
       "      <th>10</th>\n",
       "      <th>11</th>\n",
       "      <th>12</th>\n",
       "      <th>13</th>\n",
       "      <th>14</th>\n",
       "      <th>15</th>\n",
       "    </tr>\n",
       "  </thead>\n",
       "  <tbody>\n",
       "    <tr>\n",
       "      <th>О</th>\n",
       "      <td>4</td>\n",
       "      <td>3</td>\n",
       "      <td>3</td>\n",
       "      <td>2</td>\n",
       "      <td>3</td>\n",
       "      <td>2</td>\n",
       "      <td>2</td>\n",
       "      <td>1</td>\n",
       "      <td>3</td>\n",
       "      <td>2</td>\n",
       "      <td>2</td>\n",
       "      <td>1</td>\n",
       "      <td>2</td>\n",
       "      <td>1</td>\n",
       "      <td>1</td>\n",
       "      <td>0</td>\n",
       "    </tr>\n",
       "    <tr>\n",
       "      <th>Р</th>\n",
       "      <td>0</td>\n",
       "      <td>1</td>\n",
       "      <td>1</td>\n",
       "      <td>2</td>\n",
       "      <td>1</td>\n",
       "      <td>2</td>\n",
       "      <td>2</td>\n",
       "      <td>3</td>\n",
       "      <td>1</td>\n",
       "      <td>2</td>\n",
       "      <td>2</td>\n",
       "      <td>3</td>\n",
       "      <td>2</td>\n",
       "      <td>3</td>\n",
       "      <td>3</td>\n",
       "      <td>4</td>\n",
       "    </tr>\n",
       "  </tbody>\n",
       "</table>\n",
       "</div>"
      ],
      "text/plain": [
       "   0   1   2   3   4   5   6   7   8   9   10  11  12  13  14  15\n",
       "О   4   3   3   2   3   2   2   1   3   2   2   1   2   1   1   0\n",
       "Р   0   1   1   2   1   2   2   3   1   2   2   3   2   3   3   4"
      ]
     },
     "execution_count": 21,
     "metadata": {},
     "output_type": "execute_result"
    }
   ],
   "source": [
    "coin_freq = coin.T.apply(lambda x: x.value_counts()).fillna(0).astype(int)\n",
    "coin_freq"
   ]
  },
  {
   "cell_type": "code",
   "execution_count": 22,
   "id": "d0c44561",
   "metadata": {},
   "outputs": [
    {
     "data": {
      "text/plain": [
       "6"
      ]
     },
     "execution_count": 22,
     "metadata": {},
     "output_type": "execute_result"
    }
   ],
   "source": [
    "coin_freq.loc['О'][coin_freq.loc['О'] == v].count()"
   ]
  },
  {
   "cell_type": "markdown",
   "id": "6508188b",
   "metadata": {},
   "source": [
    "На первый взгляд использовать сочетание контринтуитивно. Но если в качестве $n$ возможных исходов использвать номера бросков, то станет более понятна логика."
   ]
  },
  {
   "cell_type": "code",
   "execution_count": 23,
   "id": "a19e22bc",
   "metadata": {},
   "outputs": [
    {
     "data": {
      "text/plain": [
       "[(1, 2), (1, 3), (1, 4), (2, 3), (2, 4), (3, 4)]"
      ]
     },
     "execution_count": 23,
     "metadata": {},
     "output_type": "execute_result"
    }
   ],
   "source": [
    "list(itertools.combinations(range(1, w+1), v))"
   ]
  },
  {
   "cell_type": "markdown",
   "id": "bbeff063",
   "metadata": {},
   "source": [
    "Получились группы состоящие из номеров бросков, в которых возможно выпадания орла $v$ раз"
   ]
  },
  {
   "cell_type": "code",
   "execution_count": 24,
   "id": "42418203",
   "metadata": {},
   "outputs": [
    {
     "data": {
      "text/plain": [
       "6"
      ]
     },
     "execution_count": 24,
     "metadata": {},
     "output_type": "execute_result"
    }
   ],
   "source": [
    "combinations_without_repeat(w, v)"
   ]
  },
  {
   "cell_type": "code",
   "execution_count": 25,
   "id": "4a4d77d3",
   "metadata": {},
   "outputs": [
    {
     "data": {
      "text/plain": [
       "6"
      ]
     },
     "execution_count": 25,
     "metadata": {},
     "output_type": "execute_result"
    }
   ],
   "source": [
    "math.comb(w, v)"
   ]
  },
  {
   "cell_type": "markdown",
   "id": "30640405",
   "metadata": {},
   "source": [
    "**Пример.** В сумку помещается только 3 продукта из 4 (яблоко, пицца, торт, арбуз). Сколько вариантов наборов продуктов **без повторения** существует?"
   ]
  },
  {
   "cell_type": "code",
   "execution_count": 26,
   "id": "83645829",
   "metadata": {},
   "outputs": [
    {
     "data": {
      "text/plain": [
       "4"
      ]
     },
     "execution_count": 26,
     "metadata": {},
     "output_type": "execute_result"
    }
   ],
   "source": [
    "combinations_without_repeat(4, 3)"
   ]
  },
  {
   "cell_type": "code",
   "execution_count": 27,
   "id": "a8c76470",
   "metadata": {},
   "outputs": [
    {
     "data": {
      "text/plain": [
       "[('🍏', '🍕', '🎂'), ('🍏', '🍕', '🍉'), ('🍏', '🎂', '🍉'), ('🍕', '🎂', '🍉')]"
      ]
     },
     "execution_count": 27,
     "metadata": {},
     "output_type": "execute_result"
    }
   ],
   "source": [
    "food = '🍏🍕🎂🍉'  # множество еды\n",
    "list(itertools.combinations(food, 3))"
   ]
  },
  {
   "cell_type": "markdown",
   "id": "112f5183",
   "metadata": {},
   "source": [
    "### 3.2 С повторением\n",
    "https://www.matburo.ru/tvart_sub.php?p=calc_CR\n",
    "> Сочетанием с повторениями из $n$ по $k$ называется сочетание, в котором каждый элемент может участвовать несколько раз\n",
    "\n",
    "$$C_{n}^{k} = \\frac{(n+k-1)!}{k!(n-1)!}$$"
   ]
  },
  {
   "cell_type": "code",
   "execution_count": 28,
   "id": "7df6f80b",
   "metadata": {},
   "outputs": [],
   "source": [
    "def combinations_with_repeat(n, k):\n",
    "    return math.factorial(n + k - 1) // (math.factorial(k) * math.factorial(n-1))"
   ]
  },
  {
   "cell_type": "markdown",
   "id": "d9fd776f",
   "metadata": {},
   "source": [
    "**Пример update.** Условие из предудущей задачи с едой остается, только теперь **разрешен повтор** продуктов."
   ]
  },
  {
   "cell_type": "code",
   "execution_count": 29,
   "id": "7a04d0a8",
   "metadata": {},
   "outputs": [
    {
     "data": {
      "text/plain": [
       "20"
      ]
     },
     "execution_count": 29,
     "metadata": {},
     "output_type": "execute_result"
    }
   ],
   "source": [
    "combinations_with_repeat(4, 3)"
   ]
  },
  {
   "cell_type": "code",
   "execution_count": 30,
   "id": "3d200649",
   "metadata": {},
   "outputs": [
    {
     "data": {
      "text/plain": [
       "[('🍏', '🍏', '🍏'),\n",
       " ('🍏', '🍏', '🍕'),\n",
       " ('🍏', '🍏', '🎂'),\n",
       " ('🍏', '🍏', '🍉'),\n",
       " ('🍏', '🍕', '🍕'),\n",
       " ('🍏', '🍕', '🎂'),\n",
       " ('🍏', '🍕', '🍉'),\n",
       " ('🍏', '🎂', '🎂'),\n",
       " ('🍏', '🎂', '🍉'),\n",
       " ('🍏', '🍉', '🍉'),\n",
       " ('🍕', '🍕', '🍕'),\n",
       " ('🍕', '🍕', '🎂'),\n",
       " ('🍕', '🍕', '🍉'),\n",
       " ('🍕', '🎂', '🎂'),\n",
       " ('🍕', '🎂', '🍉'),\n",
       " ('🍕', '🍉', '🍉'),\n",
       " ('🎂', '🎂', '🎂'),\n",
       " ('🎂', '🎂', '🍉'),\n",
       " ('🎂', '🍉', '🍉'),\n",
       " ('🍉', '🍉', '🍉')]"
      ]
     },
     "execution_count": 30,
     "metadata": {},
     "output_type": "execute_result"
    }
   ],
   "source": [
    "list(itertools.combinations_with_replacement(food, 3))"
   ]
  },
  {
   "cell_type": "markdown",
   "id": "90d0eb62",
   "metadata": {},
   "source": [
    "## 4 Формула связи\n",
    "Связь перестановок, размещения и сочетания без повтора:\n",
    "$$A_{m}^{n}=C_{m}^{n}\\cdot P_{m}$$"
   ]
  },
  {
   "cell_type": "code",
   "execution_count": 31,
   "id": "f8971e06",
   "metadata": {},
   "outputs": [
    {
     "data": {
      "text/plain": [
       "60"
      ]
     },
     "execution_count": 31,
     "metadata": {},
     "output_type": "execute_result"
    }
   ],
   "source": [
    "combinations_without_repeat(5, 3) * permutation_without_repeat(3)"
   ]
  },
  {
   "cell_type": "code",
   "execution_count": 32,
   "id": "af30c3d2",
   "metadata": {},
   "outputs": [
    {
     "data": {
      "text/plain": [
       "60"
      ]
     },
     "execution_count": 32,
     "metadata": {},
     "output_type": "execute_result"
    }
   ],
   "source": [
    "partial_permutation_without_repeat(5, 3)"
   ]
  },
  {
   "cell_type": "markdown",
   "id": "acca7102",
   "metadata": {},
   "source": [
    "## 5 Декартово произведение\n",
    "[wiki: Декартово произведение](https://en.wikipedia.org/wiki/Cartesian_product)\n",
    "\n",
    ">Декартово произведение множеств - множество, составленное из пар элементов множеств A и B, где каждому элементу множества А сопоставлен каждый элемент множества В"
   ]
  },
  {
   "cell_type": "code",
   "execution_count": 33,
   "id": "95539a98",
   "metadata": {},
   "outputs": [
    {
     "name": "stdout",
     "output_type": "stream",
     "text": [
      "Количество карт: 52\n"
     ]
    },
    {
     "data": {
      "text/plain": [
       "[('♠', 'A'),\n",
       " ('♠', 'K'),\n",
       " ('♠', 'Q'),\n",
       " ('♠', 'J'),\n",
       " ('♠', 10),\n",
       " ('♠', 9),\n",
       " ('♠', 8),\n",
       " ('♠', 7),\n",
       " ('♠', 6),\n",
       " ('♠', 5),\n",
       " ('♠', 4),\n",
       " ('♠', 3),\n",
       " ('♠', 2),\n",
       " ('♥', 'A'),\n",
       " ('♥', 'K'),\n",
       " ('♥', 'Q'),\n",
       " ('♥', 'J'),\n",
       " ('♥', 10),\n",
       " ('♥', 9),\n",
       " ('♥', 8),\n",
       " ('♥', 7),\n",
       " ('♥', 6),\n",
       " ('♥', 5),\n",
       " ('♥', 4),\n",
       " ('♥', 3),\n",
       " ('♥', 2),\n",
       " ('♦', 'A'),\n",
       " ('♦', 'K'),\n",
       " ('♦', 'Q'),\n",
       " ('♦', 'J'),\n",
       " ('♦', 10),\n",
       " ('♦', 9),\n",
       " ('♦', 8),\n",
       " ('♦', 7),\n",
       " ('♦', 6),\n",
       " ('♦', 5),\n",
       " ('♦', 4),\n",
       " ('♦', 3),\n",
       " ('♦', 2),\n",
       " ('♣', 'A'),\n",
       " ('♣', 'K'),\n",
       " ('♣', 'Q'),\n",
       " ('♣', 'J'),\n",
       " ('♣', 10),\n",
       " ('♣', 9),\n",
       " ('♣', 8),\n",
       " ('♣', 7),\n",
       " ('♣', 6),\n",
       " ('♣', 5),\n",
       " ('♣', 4),\n",
       " ('♣', 3),\n",
       " ('♣', 2)]"
      ]
     },
     "execution_count": 33,
     "metadata": {},
     "output_type": "execute_result"
    }
   ],
   "source": [
    "suits = ('♠', '♥', '♦', '♣')\n",
    "ranks = ('A', 'K', 'Q', 'J', 10, 9, 8, 7, 6, 5, 4, 3, 2)\n",
    "\n",
    "cards = list(itertools.product(suits, ranks))\n",
    "print('Количество карт:', len(cards))\n",
    "cards"
   ]
  },
  {
   "cell_type": "markdown",
   "id": "9cd4aedf",
   "metadata": {},
   "source": [
    "## 6 Формула Бернулли\n",
    "+ [wiki: Формула Бернулли](https://ru.wikipedia.org/wiki/%D0%A4%D0%BE%D1%80%D0%BC%D1%83%D0%BB%D0%B0_%D0%91%D0%B5%D1%80%D0%BD%D1%83%D0%BB%D0%BB%D0%B8#:~:text=%D0%A4%D0%BE%D1%80%D0%BC%D1%83%D0%BB%D0%B0%20%D0%91%D0%B5%D1%80%D0%BD%D1%83%D0%BB%D0%BB%D0%B8%20%E2%80%94%20%D1%84%D0%BE%D1%80%D0%BC%D1%83%D0%BB%D0%B0%20%D0%B2,%D1%8D%D1%82%D1%83%20%D1%84%D0%BE%D1%80%D0%BC%D1%83%D0%BB%D1%83.%20%D0%A2%D0%B5%D0%BE%D1%80%D0%B5%D0%BC%D0%B0.%20%D0%95%D1%81%D0%BB%D0%B8%20%D0%B2%D0%B5%D1%80%D0%BE%D1%8F%D1%82%D0%BD%D0%BE%D1%81%D1%82%D1%8C)\n",
    "+ [Пример с кубиком](https://www.matburo.ru/tvart_sub.php?p=art_kost)\n",
    "\n",
    "\n",
    "📌 Возможны два исхода: либо появится событие $А$, либо противоположное ему событие.\n",
    "\n",
    "Вероятность того, что событие $А$ появится в $n$ испытаниях ровно $k$ раз:\n",
    "\n",
    "$$P_{n}(k) = C_{n}^{k}\\cdot p^{k}\\cdot (1-p)^{n-k}$$\n",
    "\n",
    "где $p$ - вероятность события $A$, $C_{n}^{k}$ - число «удачных» комбинаций"
   ]
  },
  {
   "cell_type": "code",
   "execution_count": 34,
   "id": "10a1ddba",
   "metadata": {},
   "outputs": [],
   "source": [
    "def bernulli(p, n, k):\n",
    "    return math.comb(n, k) * pow(p, k) * pow((1 - p), (n - k))"
   ]
  },
  {
   "cell_type": "markdown",
   "id": "79e59e90",
   "metadata": {},
   "source": [
    "**Пример.** Какая вероятность выпадания 2 орлов, если монетку подкидвать 4 раза?"
   ]
  },
  {
   "cell_type": "code",
   "execution_count": 35,
   "id": "74e1d647",
   "metadata": {},
   "outputs": [
    {
     "data": {
      "text/plain": [
       "0.375"
      ]
     },
     "execution_count": 35,
     "metadata": {},
     "output_type": "execute_result"
    }
   ],
   "source": [
    "bernulli(p=1/2, n=4, k=2)"
   ]
  },
  {
   "cell_type": "markdown",
   "id": "37112f9b",
   "metadata": {},
   "source": [
    "Из решения предыдущей задачи с монеткой всего возможно 16 комбинаций. Из них 2 орла в 6 комбинациях"
   ]
  },
  {
   "cell_type": "code",
   "execution_count": 36,
   "id": "6a6af095",
   "metadata": {},
   "outputs": [
    {
     "data": {
      "text/plain": [
       "0.375"
      ]
     },
     "execution_count": 36,
     "metadata": {},
     "output_type": "execute_result"
    }
   ],
   "source": [
    "6 / 16"
   ]
  },
  {
   "cell_type": "markdown",
   "id": "431b0fe4",
   "metadata": {},
   "source": [
    "## Задача. N-гранные кубики\n",
    "\n",
    "Компания из N человек играет в игру с N−гранными кубиками; каждый участник бросает кубик, получая число от 1 до N. Участники разбиваются на всевозможные пары, в каждой паре людей с совпавшими гранями оба игрока получают столько очков, сколько выпало. После этого у каждого участника вычитаются баллы в размере квадрата количества людей с той же выпавшей гранью.\n",
    "\n",
    "Например, для N=3 при выпавших гранях [1, 2, 2] суммарное число очков будет 4−2∗2^2−1^2=−5, а при [2, 2, 2] будет 12−3∗3^2=−15\n",
    "\n",
    "Найдите математическое ожидание суммарно набранного числа очков при N=50\n",
    "\n",
    "---"
   ]
  },
  {
   "cell_type": "markdown",
   "id": "77a5c70f",
   "metadata": {},
   "source": [
    "### Решение в лоб"
   ]
  },
  {
   "cell_type": "markdown",
   "id": "ca9aee44",
   "metadata": {},
   "source": [
    "📌Для получения всех возможных комбинаций выпадания кубика используем размещения с повтором."
   ]
  },
  {
   "cell_type": "markdown",
   "id": "6c223510",
   "metadata": {},
   "source": [
    "Математическое ожидание суммы набранных очков:\n",
    "$$E(S)=\\sum_{n=1}^{N}p_{n}s_{n}$$\n",
    "где $s_{n}$ - сумма очков для выпавшей комбинации граней кубика, $p_{n}$ - вероятность такой комбинации граней кубика.\n",
    "\n",
    "Вероятность комбинации $n$: \n",
    "$$p_{n} = \\frac{1}{m}$$\n",
    "где $m$ - общее количество комбинаций"
   ]
  },
  {
   "cell_type": "code",
   "execution_count": 82,
   "id": "7a57c5d0",
   "metadata": {},
   "outputs": [
    {
     "name": "stdout",
     "output_type": "stream",
     "text": [
      "Всего размещений: 27\n"
     ]
    }
   ],
   "source": [
    "N = 3\n",
    "numbers = range(1, N+1)\n",
    "total_permut = partial_permutation_with_repeat(N, N)\n",
    "print(f'Всего размещений: {total_permut}')"
   ]
  },
  {
   "cell_type": "code",
   "execution_count": 83,
   "id": "f2df467c",
   "metadata": {},
   "outputs": [
    {
     "data": {
      "text/plain": [
       "[(1, 1, 1),\n",
       " (1, 1, 2),\n",
       " (1, 1, 3),\n",
       " (1, 2, 1),\n",
       " (1, 2, 2),\n",
       " (1, 2, 3),\n",
       " (1, 3, 1),\n",
       " (1, 3, 2),\n",
       " (1, 3, 3),\n",
       " (2, 1, 1),\n",
       " (2, 1, 2),\n",
       " (2, 1, 3),\n",
       " (2, 2, 1),\n",
       " (2, 2, 2),\n",
       " (2, 2, 3),\n",
       " (2, 3, 1),\n",
       " (2, 3, 2),\n",
       " (2, 3, 3),\n",
       " (3, 1, 1),\n",
       " (3, 1, 2),\n",
       " (3, 1, 3),\n",
       " (3, 2, 1),\n",
       " (3, 2, 2),\n",
       " (3, 2, 3),\n",
       " (3, 3, 1),\n",
       " (3, 3, 2),\n",
       " (3, 3, 3)]"
      ]
     },
     "execution_count": 83,
     "metadata": {},
     "output_type": "execute_result"
    }
   ],
   "source": [
    "list(itertools.product(numbers, repeat=N))"
   ]
  },
  {
   "cell_type": "markdown",
   "id": "149d3e94",
   "metadata": {},
   "source": [
    "📌Для составления всевозможных пар используем сочетание без повтора, так как в паре не важен порядок"
   ]
  },
  {
   "cell_type": "code",
   "execution_count": 87,
   "id": "58fd9d49",
   "metadata": {},
   "outputs": [
    {
     "data": {
      "text/plain": [
       "[(3, 2), (3, 3), (2, 3)]"
      ]
     },
     "execution_count": 87,
     "metadata": {},
     "output_type": "execute_result"
    }
   ],
   "source": [
    "seq = (3, 2, 3)\n",
    "list(itertools.combinations(seq, 2))"
   ]
  },
  {
   "cell_type": "code",
   "execution_count": 88,
   "id": "3e26c0be",
   "metadata": {},
   "outputs": [
    {
     "data": {
      "text/plain": [
       "3"
      ]
     },
     "execution_count": 88,
     "metadata": {},
     "output_type": "execute_result"
    }
   ],
   "source": [
    "combinations_without_repeat(N, 2)"
   ]
  },
  {
   "cell_type": "code",
   "execution_count": 89,
   "id": "476ac0fc",
   "metadata": {},
   "outputs": [],
   "source": [
    "def scores(series: list) -> int:\n",
    "    \"\"\"\n",
    "    Подсчитывает количество очков для переданной последовательности выпавших граней кубика\n",
    "    \"\"\"\n",
    "    total = 0  # сумма очков\n",
    "    \n",
    "    # Подсчет суммы у пары с совпавшими гранями\n",
    "    pairs = list(itertools.combinations(series, 2))\n",
    "    for n1, n2 in pairs:\n",
    "        if n1 == n2:\n",
    "            total += (n1+n2)\n",
    "            \n",
    "    # вычитание у каждого игрока квадрата количества людей с теми же гранями\n",
    "    for _, group in itertools.groupby(sorted(series)):\n",
    "        n = len(list(group))\n",
    "        total -= n * pow(n, 2)\n",
    "    return total    "
   ]
  },
  {
   "cell_type": "code",
   "execution_count": 90,
   "id": "9b187e1d",
   "metadata": {},
   "outputs": [
    {
     "data": {
      "text/plain": [
       "-5"
      ]
     },
     "execution_count": 90,
     "metadata": {},
     "output_type": "execute_result"
    }
   ],
   "source": [
    "series = [1, 2, 2] \n",
    "scores(series)"
   ]
  },
  {
   "cell_type": "code",
   "execution_count": 91,
   "id": "1381bdde",
   "metadata": {},
   "outputs": [
    {
     "name": "stdout",
     "output_type": "stream",
     "text": [
      "Сум. кол-во очков: -153\n",
      "Мат. ожидание очков: -5.666666666666664\n"
     ]
    }
   ],
   "source": [
    "result = 0  # суммарное количество очков\n",
    "math_expect = 0  # мат. ожидание\n",
    "for seq in itertools.product(numbers, repeat=N):\n",
    "    result += scores(seq)\n",
    "    math_expect += (scores(seq) / total_permut)\n",
    "\n",
    "print('Сум. кол-во очков:', result)\n",
    "print('Мат. ожидание очков:', math_expect)"
   ]
  },
  {
   "cell_type": "markdown",
   "id": "46e9ade1",
   "metadata": {},
   "source": [
    "### Решение через сочетания"
   ]
  },
  {
   "cell_type": "markdown",
   "id": "f55985c2",
   "metadata": {},
   "source": [
    "📌 Так как в задаче фокус на разбитие пар после бросков кубика, то не важно на кубике условно выпало [1, 2, 2] или [2, 2, 1], ведь комбинации пар из таких наборов будут одинаковые."
   ]
  },
  {
   "cell_type": "markdown",
   "id": "bf1ab0bf",
   "metadata": {},
   "source": [
    "📌 Если разбить последовательность [1, 2, 2] на [1] и [2, 2] и подсчитать итоговую сумму, то результат не изменится"
   ]
  },
  {
   "cell_type": "code",
   "execution_count": 92,
   "id": "db0ec5e3",
   "metadata": {},
   "outputs": [
    {
     "data": {
      "text/plain": [
       "-5"
      ]
     },
     "execution_count": 92,
     "metadata": {},
     "output_type": "execute_result"
    }
   ],
   "source": [
    "series1 = [1] \n",
    "series2 = [2, 2] \n",
    "scores(series1) + scores(series2)"
   ]
  },
  {
   "cell_type": "markdown",
   "id": "d015227a",
   "metadata": {},
   "source": [
    "📌 Комбинации например [1, 2, 2] и [3, 2, 2] будут давать одинаковую итоговую сумму очков. То есть важны только одинаковые выпавшие грани."
   ]
  },
  {
   "cell_type": "markdown",
   "id": "077c019a",
   "metadata": {},
   "source": [
    "🔑Смысл решения заключается в том, чтобы по отдельности посчитать сумму очков для каждой грани с каждой возможой частотой и все вместе сложить.\n",
    "\n",
    "Например при N=4, надо выяснить сколько комбинаций с четырмя единицами [1, 1, 1, 1], с тремя [1, 1, ?, 1], с двумя [1, 1, ?, ?], с одной [?, ?, 1, ?] и так для каждой грани. У каждой грани количество комбинаций с одинаковой частотой будут равны."
   ]
  },
  {
   "cell_type": "code",
   "execution_count": 93,
   "id": "b51ebaab",
   "metadata": {},
   "outputs": [
    {
     "data": {
      "text/html": [
       "<div>\n",
       "<style scoped>\n",
       "    .dataframe tbody tr th:only-of-type {\n",
       "        vertical-align: middle;\n",
       "    }\n",
       "\n",
       "    .dataframe tbody tr th {\n",
       "        vertical-align: top;\n",
       "    }\n",
       "\n",
       "    .dataframe thead th {\n",
       "        text-align: right;\n",
       "    }\n",
       "</style>\n",
       "<table border=\"1\" class=\"dataframe\">\n",
       "  <thead>\n",
       "    <tr style=\"text-align: right;\">\n",
       "      <th></th>\n",
       "      <th>Бросок_1</th>\n",
       "      <th>Бросок_2</th>\n",
       "      <th>Бросок_3</th>\n",
       "    </tr>\n",
       "  </thead>\n",
       "  <tbody>\n",
       "    <tr>\n",
       "      <th>0</th>\n",
       "      <td>1</td>\n",
       "      <td>1</td>\n",
       "      <td>1</td>\n",
       "    </tr>\n",
       "    <tr>\n",
       "      <th>1</th>\n",
       "      <td>1</td>\n",
       "      <td>1</td>\n",
       "      <td>2</td>\n",
       "    </tr>\n",
       "    <tr>\n",
       "      <th>2</th>\n",
       "      <td>1</td>\n",
       "      <td>1</td>\n",
       "      <td>3</td>\n",
       "    </tr>\n",
       "    <tr>\n",
       "      <th>3</th>\n",
       "      <td>1</td>\n",
       "      <td>2</td>\n",
       "      <td>1</td>\n",
       "    </tr>\n",
       "    <tr>\n",
       "      <th>4</th>\n",
       "      <td>1</td>\n",
       "      <td>2</td>\n",
       "      <td>2</td>\n",
       "    </tr>\n",
       "    <tr>\n",
       "      <th>5</th>\n",
       "      <td>1</td>\n",
       "      <td>2</td>\n",
       "      <td>3</td>\n",
       "    </tr>\n",
       "    <tr>\n",
       "      <th>6</th>\n",
       "      <td>1</td>\n",
       "      <td>3</td>\n",
       "      <td>1</td>\n",
       "    </tr>\n",
       "    <tr>\n",
       "      <th>7</th>\n",
       "      <td>1</td>\n",
       "      <td>3</td>\n",
       "      <td>2</td>\n",
       "    </tr>\n",
       "    <tr>\n",
       "      <th>8</th>\n",
       "      <td>1</td>\n",
       "      <td>3</td>\n",
       "      <td>3</td>\n",
       "    </tr>\n",
       "    <tr>\n",
       "      <th>9</th>\n",
       "      <td>2</td>\n",
       "      <td>1</td>\n",
       "      <td>1</td>\n",
       "    </tr>\n",
       "    <tr>\n",
       "      <th>10</th>\n",
       "      <td>2</td>\n",
       "      <td>1</td>\n",
       "      <td>2</td>\n",
       "    </tr>\n",
       "    <tr>\n",
       "      <th>11</th>\n",
       "      <td>2</td>\n",
       "      <td>1</td>\n",
       "      <td>3</td>\n",
       "    </tr>\n",
       "    <tr>\n",
       "      <th>12</th>\n",
       "      <td>2</td>\n",
       "      <td>2</td>\n",
       "      <td>1</td>\n",
       "    </tr>\n",
       "    <tr>\n",
       "      <th>13</th>\n",
       "      <td>2</td>\n",
       "      <td>2</td>\n",
       "      <td>2</td>\n",
       "    </tr>\n",
       "    <tr>\n",
       "      <th>14</th>\n",
       "      <td>2</td>\n",
       "      <td>2</td>\n",
       "      <td>3</td>\n",
       "    </tr>\n",
       "    <tr>\n",
       "      <th>15</th>\n",
       "      <td>2</td>\n",
       "      <td>3</td>\n",
       "      <td>1</td>\n",
       "    </tr>\n",
       "    <tr>\n",
       "      <th>16</th>\n",
       "      <td>2</td>\n",
       "      <td>3</td>\n",
       "      <td>2</td>\n",
       "    </tr>\n",
       "    <tr>\n",
       "      <th>17</th>\n",
       "      <td>2</td>\n",
       "      <td>3</td>\n",
       "      <td>3</td>\n",
       "    </tr>\n",
       "    <tr>\n",
       "      <th>18</th>\n",
       "      <td>3</td>\n",
       "      <td>1</td>\n",
       "      <td>1</td>\n",
       "    </tr>\n",
       "    <tr>\n",
       "      <th>19</th>\n",
       "      <td>3</td>\n",
       "      <td>1</td>\n",
       "      <td>2</td>\n",
       "    </tr>\n",
       "    <tr>\n",
       "      <th>20</th>\n",
       "      <td>3</td>\n",
       "      <td>1</td>\n",
       "      <td>3</td>\n",
       "    </tr>\n",
       "    <tr>\n",
       "      <th>21</th>\n",
       "      <td>3</td>\n",
       "      <td>2</td>\n",
       "      <td>1</td>\n",
       "    </tr>\n",
       "    <tr>\n",
       "      <th>22</th>\n",
       "      <td>3</td>\n",
       "      <td>2</td>\n",
       "      <td>2</td>\n",
       "    </tr>\n",
       "    <tr>\n",
       "      <th>23</th>\n",
       "      <td>3</td>\n",
       "      <td>2</td>\n",
       "      <td>3</td>\n",
       "    </tr>\n",
       "    <tr>\n",
       "      <th>24</th>\n",
       "      <td>3</td>\n",
       "      <td>3</td>\n",
       "      <td>1</td>\n",
       "    </tr>\n",
       "    <tr>\n",
       "      <th>25</th>\n",
       "      <td>3</td>\n",
       "      <td>3</td>\n",
       "      <td>2</td>\n",
       "    </tr>\n",
       "    <tr>\n",
       "      <th>26</th>\n",
       "      <td>3</td>\n",
       "      <td>3</td>\n",
       "      <td>3</td>\n",
       "    </tr>\n",
       "  </tbody>\n",
       "</table>\n",
       "</div>"
      ],
      "text/plain": [
       "    Бросок_1  Бросок_2  Бросок_3\n",
       "0          1         1         1\n",
       "1          1         1         2\n",
       "2          1         1         3\n",
       "3          1         2         1\n",
       "4          1         2         2\n",
       "5          1         2         3\n",
       "6          1         3         1\n",
       "7          1         3         2\n",
       "8          1         3         3\n",
       "9          2         1         1\n",
       "10         2         1         2\n",
       "11         2         1         3\n",
       "12         2         2         1\n",
       "13         2         2         2\n",
       "14         2         2         3\n",
       "15         2         3         1\n",
       "16         2         3         2\n",
       "17         2         3         3\n",
       "18         3         1         1\n",
       "19         3         1         2\n",
       "20         3         1         3\n",
       "21         3         2         1\n",
       "22         3         2         2\n",
       "23         3         2         3\n",
       "24         3         3         1\n",
       "25         3         3         2\n",
       "26         3         3         3"
      ]
     },
     "execution_count": 93,
     "metadata": {},
     "output_type": "execute_result"
    }
   ],
   "source": [
    "df = pd.DataFrame(\n",
    "                  data=list(itertools.product(numbers, repeat=N)),\n",
    "                  columns=[f'Бросок_{n}' for n in range(1, N+1)]\n",
    "                 )\n",
    "df"
   ]
  },
  {
   "cell_type": "code",
   "execution_count": 94,
   "id": "5cd336c0",
   "metadata": {},
   "outputs": [
    {
     "data": {
      "text/html": [
       "<div>\n",
       "<style scoped>\n",
       "    .dataframe tbody tr th:only-of-type {\n",
       "        vertical-align: middle;\n",
       "    }\n",
       "\n",
       "    .dataframe tbody tr th {\n",
       "        vertical-align: top;\n",
       "    }\n",
       "\n",
       "    .dataframe thead th {\n",
       "        text-align: right;\n",
       "    }\n",
       "</style>\n",
       "<table border=\"1\" class=\"dataframe\">\n",
       "  <thead>\n",
       "    <tr style=\"text-align: right;\">\n",
       "      <th></th>\n",
       "      <th>Частота_грани_1</th>\n",
       "      <th>Частота_грани_2</th>\n",
       "      <th>Частота_грани_3</th>\n",
       "    </tr>\n",
       "  </thead>\n",
       "  <tbody>\n",
       "    <tr>\n",
       "      <th>0</th>\n",
       "      <td>3</td>\n",
       "      <td>0</td>\n",
       "      <td>0</td>\n",
       "    </tr>\n",
       "    <tr>\n",
       "      <th>1</th>\n",
       "      <td>2</td>\n",
       "      <td>1</td>\n",
       "      <td>0</td>\n",
       "    </tr>\n",
       "    <tr>\n",
       "      <th>2</th>\n",
       "      <td>2</td>\n",
       "      <td>0</td>\n",
       "      <td>1</td>\n",
       "    </tr>\n",
       "    <tr>\n",
       "      <th>3</th>\n",
       "      <td>2</td>\n",
       "      <td>1</td>\n",
       "      <td>0</td>\n",
       "    </tr>\n",
       "    <tr>\n",
       "      <th>4</th>\n",
       "      <td>1</td>\n",
       "      <td>2</td>\n",
       "      <td>0</td>\n",
       "    </tr>\n",
       "    <tr>\n",
       "      <th>5</th>\n",
       "      <td>1</td>\n",
       "      <td>1</td>\n",
       "      <td>1</td>\n",
       "    </tr>\n",
       "    <tr>\n",
       "      <th>6</th>\n",
       "      <td>2</td>\n",
       "      <td>0</td>\n",
       "      <td>1</td>\n",
       "    </tr>\n",
       "    <tr>\n",
       "      <th>7</th>\n",
       "      <td>1</td>\n",
       "      <td>1</td>\n",
       "      <td>1</td>\n",
       "    </tr>\n",
       "    <tr>\n",
       "      <th>8</th>\n",
       "      <td>1</td>\n",
       "      <td>0</td>\n",
       "      <td>2</td>\n",
       "    </tr>\n",
       "    <tr>\n",
       "      <th>9</th>\n",
       "      <td>2</td>\n",
       "      <td>1</td>\n",
       "      <td>0</td>\n",
       "    </tr>\n",
       "    <tr>\n",
       "      <th>10</th>\n",
       "      <td>1</td>\n",
       "      <td>2</td>\n",
       "      <td>0</td>\n",
       "    </tr>\n",
       "    <tr>\n",
       "      <th>11</th>\n",
       "      <td>1</td>\n",
       "      <td>1</td>\n",
       "      <td>1</td>\n",
       "    </tr>\n",
       "    <tr>\n",
       "      <th>12</th>\n",
       "      <td>1</td>\n",
       "      <td>2</td>\n",
       "      <td>0</td>\n",
       "    </tr>\n",
       "    <tr>\n",
       "      <th>13</th>\n",
       "      <td>0</td>\n",
       "      <td>3</td>\n",
       "      <td>0</td>\n",
       "    </tr>\n",
       "    <tr>\n",
       "      <th>14</th>\n",
       "      <td>0</td>\n",
       "      <td>2</td>\n",
       "      <td>1</td>\n",
       "    </tr>\n",
       "    <tr>\n",
       "      <th>15</th>\n",
       "      <td>1</td>\n",
       "      <td>1</td>\n",
       "      <td>1</td>\n",
       "    </tr>\n",
       "    <tr>\n",
       "      <th>16</th>\n",
       "      <td>0</td>\n",
       "      <td>2</td>\n",
       "      <td>1</td>\n",
       "    </tr>\n",
       "    <tr>\n",
       "      <th>17</th>\n",
       "      <td>0</td>\n",
       "      <td>1</td>\n",
       "      <td>2</td>\n",
       "    </tr>\n",
       "    <tr>\n",
       "      <th>18</th>\n",
       "      <td>2</td>\n",
       "      <td>0</td>\n",
       "      <td>1</td>\n",
       "    </tr>\n",
       "    <tr>\n",
       "      <th>19</th>\n",
       "      <td>1</td>\n",
       "      <td>1</td>\n",
       "      <td>1</td>\n",
       "    </tr>\n",
       "    <tr>\n",
       "      <th>20</th>\n",
       "      <td>1</td>\n",
       "      <td>0</td>\n",
       "      <td>2</td>\n",
       "    </tr>\n",
       "    <tr>\n",
       "      <th>21</th>\n",
       "      <td>1</td>\n",
       "      <td>1</td>\n",
       "      <td>1</td>\n",
       "    </tr>\n",
       "    <tr>\n",
       "      <th>22</th>\n",
       "      <td>0</td>\n",
       "      <td>2</td>\n",
       "      <td>1</td>\n",
       "    </tr>\n",
       "    <tr>\n",
       "      <th>23</th>\n",
       "      <td>0</td>\n",
       "      <td>1</td>\n",
       "      <td>2</td>\n",
       "    </tr>\n",
       "    <tr>\n",
       "      <th>24</th>\n",
       "      <td>1</td>\n",
       "      <td>0</td>\n",
       "      <td>2</td>\n",
       "    </tr>\n",
       "    <tr>\n",
       "      <th>25</th>\n",
       "      <td>0</td>\n",
       "      <td>1</td>\n",
       "      <td>2</td>\n",
       "    </tr>\n",
       "    <tr>\n",
       "      <th>26</th>\n",
       "      <td>0</td>\n",
       "      <td>0</td>\n",
       "      <td>3</td>\n",
       "    </tr>\n",
       "  </tbody>\n",
       "</table>\n",
       "</div>"
      ],
      "text/plain": [
       "    Частота_грани_1  Частота_грани_2  Частота_грани_3\n",
       "0                 3                0                0\n",
       "1                 2                1                0\n",
       "2                 2                0                1\n",
       "3                 2                1                0\n",
       "4                 1                2                0\n",
       "5                 1                1                1\n",
       "6                 2                0                1\n",
       "7                 1                1                1\n",
       "8                 1                0                2\n",
       "9                 2                1                0\n",
       "10                1                2                0\n",
       "11                1                1                1\n",
       "12                1                2                0\n",
       "13                0                3                0\n",
       "14                0                2                1\n",
       "15                1                1                1\n",
       "16                0                2                1\n",
       "17                0                1                2\n",
       "18                2                0                1\n",
       "19                1                1                1\n",
       "20                1                0                2\n",
       "21                1                1                1\n",
       "22                0                2                1\n",
       "23                0                1                2\n",
       "24                1                0                2\n",
       "25                0                1                2\n",
       "26                0                0                3"
      ]
     },
     "execution_count": 94,
     "metadata": {},
     "output_type": "execute_result"
    }
   ],
   "source": [
    "df_freq = pd.DataFrame()\n",
    "for n in numbers:\n",
    "    df_freq[f'Частота_грани_{n}'] = df.T[df.T == n].count()\n",
    "df_freq     "
   ]
  },
  {
   "cell_type": "code",
   "execution_count": 95,
   "id": "1f8ebf76",
   "metadata": {},
   "outputs": [
    {
     "data": {
      "text/html": [
       "<div>\n",
       "<style scoped>\n",
       "    .dataframe tbody tr th:only-of-type {\n",
       "        vertical-align: middle;\n",
       "    }\n",
       "\n",
       "    .dataframe tbody tr th {\n",
       "        vertical-align: top;\n",
       "    }\n",
       "\n",
       "    .dataframe thead th {\n",
       "        text-align: right;\n",
       "    }\n",
       "</style>\n",
       "<table border=\"1\" class=\"dataframe\">\n",
       "  <thead>\n",
       "    <tr style=\"text-align: right;\">\n",
       "      <th></th>\n",
       "      <th>Грань_1</th>\n",
       "      <th>Грань_2</th>\n",
       "      <th>Грань_3</th>\n",
       "    </tr>\n",
       "  </thead>\n",
       "  <tbody>\n",
       "    <tr>\n",
       "      <th>Частота_1</th>\n",
       "      <td>12</td>\n",
       "      <td>12</td>\n",
       "      <td>12</td>\n",
       "    </tr>\n",
       "    <tr>\n",
       "      <th>Частота_0</th>\n",
       "      <td>8</td>\n",
       "      <td>8</td>\n",
       "      <td>8</td>\n",
       "    </tr>\n",
       "    <tr>\n",
       "      <th>Частота_2</th>\n",
       "      <td>6</td>\n",
       "      <td>6</td>\n",
       "      <td>6</td>\n",
       "    </tr>\n",
       "    <tr>\n",
       "      <th>Частота_3</th>\n",
       "      <td>1</td>\n",
       "      <td>1</td>\n",
       "      <td>1</td>\n",
       "    </tr>\n",
       "  </tbody>\n",
       "</table>\n",
       "</div>"
      ],
      "text/plain": [
       "           Грань_1  Грань_2  Грань_3\n",
       "Частота_1       12       12       12\n",
       "Частота_0        8        8        8\n",
       "Частота_2        6        6        6\n",
       "Частота_3        1        1        1"
      ]
     },
     "execution_count": 95,
     "metadata": {},
     "output_type": "execute_result"
    }
   ],
   "source": [
    "# кол-во комбинаций\n",
    "df_counts = df_freq.apply(lambda x: x.value_counts())\n",
    "df_counts.index = [f'Частота_{i}' for i in df_counts.index]\n",
    "df_counts.columns = [f'Грань_{i}' for i in range(1, N+1)]\n",
    "df_counts"
   ]
  },
  {
   "cell_type": "code",
   "execution_count": 96,
   "id": "45ac664f",
   "metadata": {},
   "outputs": [
    {
     "data": {
      "text/plain": [
       "Грань_1    27\n",
       "Грань_2    27\n",
       "Грань_3    27\n",
       "dtype: int64"
      ]
     },
     "execution_count": 96,
     "metadata": {},
     "output_type": "execute_result"
    }
   ],
   "source": [
    "df_counts.sum()"
   ]
  },
  {
   "cell_type": "code",
   "execution_count": 97,
   "id": "6e79daf1",
   "metadata": {},
   "outputs": [
    {
     "data": {
      "text/html": [
       "<div>\n",
       "<style scoped>\n",
       "    .dataframe tbody tr th:only-of-type {\n",
       "        vertical-align: middle;\n",
       "    }\n",
       "\n",
       "    .dataframe tbody tr th {\n",
       "        vertical-align: top;\n",
       "    }\n",
       "\n",
       "    .dataframe thead th {\n",
       "        text-align: right;\n",
       "    }\n",
       "</style>\n",
       "<table border=\"1\" class=\"dataframe\">\n",
       "  <thead>\n",
       "    <tr style=\"text-align: right;\">\n",
       "      <th></th>\n",
       "      <th>Грань_1</th>\n",
       "      <th>Грань_2</th>\n",
       "      <th>Грань_3</th>\n",
       "    </tr>\n",
       "  </thead>\n",
       "  <tbody>\n",
       "    <tr>\n",
       "      <th>Частота_1</th>\n",
       "      <td>0.444444</td>\n",
       "      <td>0.444444</td>\n",
       "      <td>0.444444</td>\n",
       "    </tr>\n",
       "    <tr>\n",
       "      <th>Частота_0</th>\n",
       "      <td>0.296296</td>\n",
       "      <td>0.296296</td>\n",
       "      <td>0.296296</td>\n",
       "    </tr>\n",
       "    <tr>\n",
       "      <th>Частота_2</th>\n",
       "      <td>0.222222</td>\n",
       "      <td>0.222222</td>\n",
       "      <td>0.222222</td>\n",
       "    </tr>\n",
       "    <tr>\n",
       "      <th>Частота_3</th>\n",
       "      <td>0.037037</td>\n",
       "      <td>0.037037</td>\n",
       "      <td>0.037037</td>\n",
       "    </tr>\n",
       "  </tbody>\n",
       "</table>\n",
       "</div>"
      ],
      "text/plain": [
       "            Грань_1   Грань_2   Грань_3\n",
       "Частота_1  0.444444  0.444444  0.444444\n",
       "Частота_0  0.296296  0.296296  0.296296\n",
       "Частота_2  0.222222  0.222222  0.222222\n",
       "Частота_3  0.037037  0.037037  0.037037"
      ]
     },
     "execution_count": 97,
     "metadata": {},
     "output_type": "execute_result"
    }
   ],
   "source": [
    "# вероятности\n",
    "df_p = df_counts / df_counts.sum()\n",
    "df_p"
   ]
  },
  {
   "cell_type": "code",
   "execution_count": 98,
   "id": "a21ddd80",
   "metadata": {},
   "outputs": [
    {
     "data": {
      "text/plain": [
       "Грань_1    1.0\n",
       "Грань_2    1.0\n",
       "Грань_3    1.0\n",
       "dtype: float64"
      ]
     },
     "execution_count": 98,
     "metadata": {},
     "output_type": "execute_result"
    }
   ],
   "source": [
    "df_p.sum()"
   ]
  },
  {
   "cell_type": "code",
   "execution_count": 99,
   "id": "bd6d7b1a",
   "metadata": {},
   "outputs": [
    {
     "data": {
      "text/plain": [
       "0.22222222222222224"
      ]
     },
     "execution_count": 99,
     "metadata": {},
     "output_type": "execute_result"
    }
   ],
   "source": [
    "k = 3\n",
    "bernulli(1/N, N, 2)"
   ]
  },
  {
   "cell_type": "markdown",
   "id": "b3a5e88e",
   "metadata": {},
   "source": [
    "Суммарное число очков для всевозможных комбинаций: \n",
    "$$S = \\sum_{n=1}^{N}\\sum_{k=1}^{N}C_{kn}\\cdot S_{kn}$$\n",
    "Где $n$ - число на грани кубика; $k$ - частота выпадания грани $n$;\n",
    "\n",
    "Количество комбинаций, в которых грань $n$ встречается $k$ раз: \n",
    "$$C_{kn}=C_{N}^{k}\\cdot\\overline{A}_{N-1}^{N-k}$$\n",
    "\n",
    "Сумма очков для грани $n$ с частотой $k$:\n",
    "$$S_{kn} = (2 \\cdot n \\cdot C_{k}^{2}   - k\\cdot k^{2})$$\n",
    "\n",
    "$C_{k}^{2}$ - кол-во сочетаний без повтора всевозможных пар из $k$ элементов;\n",
    "\n",
    "$C_{N}^{k}$ - кол-во сочетаний без повтора комбинаций с гранью $n$ с частотой $k$;\n",
    "\n",
    "$\\overline{A}_{N-1}^{N-k}$ - кол-во размещений сочетания с частотой $k$;\n",
    "\n",
    "Математическое ожидание суммарного числа очков:\n",
    "$$E(S) = \\sum_{n=1}^{N}\\sum_{k=1}^{N}P_{kn}\\cdot S_{kn}$$\n",
    "\n",
    "где $P_{kn} = \\frac{C_{kn}}{m}$ - вероятность грани $n$ c частотой $k$;\n",
    "\n",
    "$m$ - суммарное кол-во вcевозможных комбинаций кубика "
   ]
  },
  {
   "cell_type": "code",
   "execution_count": 100,
   "id": "587cd9ed",
   "metadata": {},
   "outputs": [
    {
     "name": "stdout",
     "output_type": "stream",
     "text": [
      "Сум. кол-во очков: -153\n",
      "Мат. ожидание очков: -5.666666666666667\n"
     ]
    }
   ],
   "source": [
    "result = 0\n",
    "math_expect = 0\n",
    "for n in range(1, N+1):\n",
    "    for k in range(1, N+1):\n",
    "        n_combo = combinations_without_repeat(N, k)\n",
    "        n_permut = partial_permutation_with_repeat(N-1, N-k)\n",
    "        n_pairs = combinations_without_repeat(k, 2)\n",
    "        s = n_combo * n_permut * (n_pairs * n * 2 - k * pow(k, 2))\n",
    "        result += s\n",
    "        math_expect += s / total_permut\n",
    "        \n",
    "print('Сум. кол-во очков:', result)\n",
    "print('Мат. ожидание очков:', math_expect)"
   ]
  },
  {
   "cell_type": "markdown",
   "id": "ce428b6f",
   "metadata": {},
   "source": [
    "### Решение через Бернулли\n",
    "\n",
    "Математическое ожидание суммарного числа очков через Бернулли:\n",
    "$$E(S) = \\sum_{n=1}^{N}\\sum_{k=1}^{N}P_{kn}^{bernulli}\\cdot S_{kn}$$\n",
    "\n",
    "$P_{kn}^{bernulli}=C_{N}^{k}\\cdot p^{k}\\cdot (1-p)^{N-k}$ - вероятность выпадание $n$ грани $k$ раз\n",
    "\n",
    "$p=1/N$ - вероятность каждой грани"
   ]
  },
  {
   "cell_type": "code",
   "execution_count": 101,
   "id": "56826d05",
   "metadata": {},
   "outputs": [
    {
     "name": "stdout",
     "output_type": "stream",
     "text": [
      "Мат. ожидание очков: -5.666666666666667\n"
     ]
    }
   ],
   "source": [
    "math_expect = 0\n",
    "for n in range(1, N+1):\n",
    "    for k in range(1, N+1):\n",
    "        combo_pair = combinations_without_repeat(k, 2)\n",
    "        s = (combo_pair * n * 2 - k * pow(k, 2))  \n",
    "        p = bernulli(p=1/N, n=N, k=k)\n",
    "        math_expect += p * s\n",
    "        \n",
    "print('Мат. ожидание очков:', math_expect)"
   ]
  }
 ],
 "metadata": {
  "kernelspec": {
   "display_name": "Python 3 (ipykernel)",
   "language": "python",
   "name": "python3"
  },
  "language_info": {
   "codemirror_mode": {
    "name": "ipython",
    "version": 3
   },
   "file_extension": ".py",
   "mimetype": "text/x-python",
   "name": "python",
   "nbconvert_exporter": "python",
   "pygments_lexer": "ipython3",
   "version": "3.8.13"
  },
  "toc": {
   "base_numbering": 1,
   "nav_menu": {},
   "number_sections": true,
   "sideBar": true,
   "skip_h1_title": false,
   "title_cell": "Table of Contents",
   "title_sidebar": "Contents",
   "toc_cell": false,
   "toc_position": {
    "height": "calc(100% - 180px)",
    "left": "10px",
    "top": "150px",
    "width": "202.188px"
   },
   "toc_section_display": true,
   "toc_window_display": false
  }
 },
 "nbformat": 4,
 "nbformat_minor": 5
}
